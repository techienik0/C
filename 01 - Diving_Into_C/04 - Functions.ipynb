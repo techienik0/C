{
 "cells": [
  {
   "cell_type": "markdown",
   "id": "f6aa11fe",
   "metadata": {},
   "source": [
    "## Types of Functions:\n",
    "   * Built-in (Library) Functions \n",
    "       * scanf(), printf() of stdio.h\n",
    "       * strlen(), strcat() of string.h\n",
    "   * User-defined Functions\n",
    "       * Created by programmers while writing the program"
   ]
  },
  {
   "cell_type": "code",
   "execution_count": null,
   "id": "3220902c",
   "metadata": {},
   "outputs": [],
   "source": [
    "#include <stdio.h>\n",
    "\n",
    "void sum(int, int);    //Function declaration (or) prototype\n",
    "\n",
    "int main(){ \n",
    "    \n",
    "    puts(\"My program starts...\");\n",
    "\n",
    "    sum(2,3);            //Function call\n",
    "                                // values which are passing = Actual parameters (or) arguments \n",
    "    puts(\"......Some dummy code\");\n",
    "    puts(\"More code....\");\n",
    "\n",
    "    sum(10, 90);\n",
    "\n",
    "    puts(\"My program continues with a few more functionalities....\");\n",
    "\n",
    "    sum(11, 21);\n",
    "\n",
    "    sum(3, 9);\n",
    "\n",
    "    return 0;\n",
    "}\n",
    "\n",
    "void sum(int num1, int num2){          //Function definition\n",
    "    int s = num1 + num2;                  //Formal parameters (or) Arguments\n",
    "    printf(\"Sum is: %d\\n\", s);               //Function Body = codes \n",
    "}"
   ]
  },
  {
   "cell_type": "code",
   "execution_count": null,
   "id": "0b1a0dfe",
   "metadata": {},
   "outputs": [],
   "source": [
    "#include <stdio.h>\n",
    "\n",
    "int sum(int, int);\n",
    "float sumOfThreeNumbers(float, float, float);\n",
    "\n",
    "int main(){ \n",
    "    \n",
    "    puts(\"My program starts...\");\n",
    "\n",
    "    int sum1 = sum(2,3);\n",
    "    printf(\"Sum is : %d\\n\", sum1);\n",
    "\n",
    "    puts(\"......Some dummy code\");\n",
    "    puts(\"More code....\");\n",
    "\n",
    "    int sum2 = sum(10, 90);\n",
    "    printf(\"Sum is : %d\\n\", sum2);\n",
    "\n",
    "    puts(\"My program continues with a few more functionalities....\");\n",
    "\n",
    "    int sum3 = sum(11, 21);\n",
    "    printf(\"Sum is: %d\\n\", sum3);\n",
    "\n",
    "\n",
    "    int sum4 = sum(3, 9);\n",
    "    sum4++;\n",
    "\n",
    "    float sum5 = sumOfThreeNumbers(10.1, 20.2, 30.3);\n",
    "    printf(\"Sum is %d\\n\", sum5);\n",
    "\n",
    "    return 0;\n",
    "}\n",
    "\n",
    "int sum(int num1, int num2){\n",
    "    return num1 + num2;\n",
    "}\n",
    "\n",
    "float sumOfThreeNumbers(float num1, float num2, float num3){\n",
    "    return num1 + num2 + num3;\n",
    "}"
   ]
  },
  {
   "cell_type": "markdown",
   "id": "d582071e",
   "metadata": {},
   "source": [
    "## Function\n",
    "   * A function is a set of statement(s) that they take input(s), do some specific computation and produces output.\n",
    "   * A function may or may not return data."
   ]
  },
  {
   "cell_type": "code",
   "execution_count": null,
   "id": "4489961e",
   "metadata": {},
   "outputs": [],
   "source": [
    "#include <stdio.h>\n",
    "\n",
    "double getAverage(float[], int);\n",
    "\n",
    "int main(){ \n",
    "\n",
    "    float numbers[5] = {983, 2.9, 34, 433, 1000.567};\n",
    "\n",
    "    double avg = getAverage(numbers, 5);\n",
    "\n",
    "    printf(\"Average value is %.3lf\",avg);\n",
    "    \n",
    "    return 0;\n",
    "}\n",
    "\n",
    "double getAverage(float arr[], int size){\n",
    "\n",
    "    double avg, sum=0;\n",
    "\n",
    "    for (int i = 0;i<size;i++){\n",
    "        sum = sum + arr[i]\n",
    "    }\n",
    "\n",
    "    avg = sum / size;\n",
    "    return avg;\n",
    "}"
   ]
  },
  {
   "cell_type": "markdown",
   "id": "2b9b36fb",
   "metadata": {},
   "source": [
    "## Advantages of Functions:\n",
    "   * Reduces code reduncdancy.\n",
    "   * Increases code reusability.\n",
    "   * Increase code readability."
   ]
  }
 ],
 "metadata": {
  "kernelspec": {
   "display_name": "Python 3 (ipykernel)",
   "language": "python",
   "name": "python3"
  },
  "language_info": {
   "codemirror_mode": {
    "name": "ipython",
    "version": 3
   },
   "file_extension": ".py",
   "mimetype": "text/x-python",
   "name": "python",
   "nbconvert_exporter": "python",
   "pygments_lexer": "ipython3",
   "version": "3.9.7"
  }
 },
 "nbformat": 4,
 "nbformat_minor": 5
}

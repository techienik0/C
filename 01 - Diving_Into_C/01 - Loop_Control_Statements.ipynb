{
 "cells": [
  {
   "cell_type": "markdown",
   "id": "a2f109e8",
   "metadata": {},
   "source": [
    "## Loop Control Statements\n",
    "   * 'break' Statement\n",
    "   * 'continue' Statement\n",
    "   * 'goto' Statement"
   ]
  },
  {
   "cell_type": "code",
   "execution_count": null,
   "id": "f16d962c",
   "metadata": {},
   "outputs": [],
   "source": [
    "#include <stdio.h>\n",
    "\n",
    "int main(){ \n",
    "    \n",
    "    //WAP to calculate the sum of 10 numbers entered by user.\n",
    "    // If user enters a negative number then terminate the loop.\n",
    "\n",
    "    int i;\n",
    "    double number, sum=0;\n",
    "    \n",
    "    for (i = 1;i <= 10; i++){\n",
    "        printf(\"Enter number %d : \",i);\n",
    "        scanf(\"%lf\", &number);\n",
    "\n",
    "        if (number < 0)\n",
    "            break;\n",
    "        \n",
    "        sum += number;\n",
    "    }\n",
    "    printf(\"The sum : %d\",sum);\n",
    "    return 0;\n",
    "}"
   ]
  },
  {
   "cell_type": "code",
   "execution_count": null,
   "id": "09ae42f4",
   "metadata": {},
   "outputs": [],
   "source": [
    "#include <stdio.h>\n",
    "\n",
    "int main(){ \n",
    "    \n",
    "    //WAP to calculate the sum of 10 numbers entered by user.\n",
    "    // If user enters a negative number then terminate the loop.\n",
    "\n",
    "    int i;\n",
    "    double number, sum=0;\n",
    "    \n",
    "    for (i = 1;i <= 10; i++){\n",
    "        printf(\"Enter number %d : \",i);\n",
    "        scanf(\"%lf\", &number);\n",
    "\n",
    "        if (number < 0)\n",
    "            break;\n",
    "        \n",
    "        if (number > 1000){\n",
    "            puts(\"Number greater than 100 is not allowed\");\n",
    "            continue; \n",
    "        }\n",
    "        sum += number;\n",
    "    }\n",
    "    printf(\"The sum : %d\",sum);\n",
    "    return 0;\n",
    "}"
   ]
  },
  {
   "cell_type": "code",
   "execution_count": null,
   "id": "c910e58d",
   "metadata": {},
   "outputs": [],
   "source": [
    "#include <stdio.h>\n",
    "\n",
    "int main(){ \n",
    "    \n",
    "    //WAP to calculate the sum of 10 numbers entered by user.\n",
    "    // If user enters a negative number then terminate the loop.\n",
    "\n",
    "    int i;\n",
    "    double number, sum=0;\n",
    "    \n",
    "    for (i = 1;i <= 10; i++){\n",
    "        printf(\"Enter number %d : \",i);\n",
    "        scanf(\"%lf\", &number);\n",
    "\n",
    "        if (number < 0)\n",
    "            goto label;\n",
    "        \n",
    "        if (number > 1000){\n",
    "            puts(\"Number greater than 100 is not allowed\");\n",
    "            continue; \n",
    "        }\n",
    "        sum += number;\n",
    "    }\n",
    "    label:\n",
    "    printf(\"The sum : %d\",sum);\n",
    "    return 0;\n",
    "}"
   ]
  },
  {
   "cell_type": "markdown",
   "id": "072ea842",
   "metadata": {},
   "source": [
    "## Loop Control Statements\n",
    "   * Statements that are used to change the normal sequence of execution of the code particularly loops.\n",
    "   * 'break','continue',and'goto'statements are examples "
   ]
  },
  {
   "cell_type": "markdown",
   "id": "2c91efd0",
   "metadata": {},
   "source": [
    "   * <b>'break'</b> Statement: Terminates the loop or switch statement and transfers execution immediately following the loop or switch.\n",
    "   * <b>'continue'</b> Statement: Causes the loop to skip the remainder of its body and immediately initiate the new iteration.\n",
    "   * <b>'goto'</b> Statement: Transfers the current program execution sequence to some other part of the program."
   ]
  }
 ],
 "metadata": {
  "kernelspec": {
   "display_name": "Python 3 (ipykernel)",
   "language": "python",
   "name": "python3"
  },
  "language_info": {
   "codemirror_mode": {
    "name": "ipython",
    "version": 3
   },
   "file_extension": ".py",
   "mimetype": "text/x-python",
   "name": "python",
   "nbconvert_exporter": "python",
   "pygments_lexer": "ipython3",
   "version": "3.9.7"
  }
 },
 "nbformat": 4,
 "nbformat_minor": 5
}

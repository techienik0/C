{
 "cells": [
  {
   "cell_type": "markdown",
   "id": "25b2d111",
   "metadata": {},
   "source": [
    "# Miscellaneous Concepts"
   ]
  },
  {
   "cell_type": "markdown",
   "id": "20417784",
   "metadata": {},
   "source": [
    "## Percent p format specifier(%p)"
   ]
  },
  {
   "cell_type": "code",
   "execution_count": null,
   "id": "f0f8770d",
   "metadata": {},
   "outputs": [],
   "source": [
    "#include <stdio.h>\n",
    "\n",
    "int main(){ \n",
    "    // Memory allocation\n",
    "    //%p format specifier\n",
    "    long scoresOne[5] = {980, 903, 785, 761, 701};\n",
    "\n",
    "    //Print address of each element in the array.\n",
    "    for (int i = 0; i < 5; i++){\n",
    "        printf(\"%p \\n\", &scoresOne[i]);         //This will be the actual address representation which is in HEXADECIMAL \n",
    "    }\n",
    "    return 0;\n",
    "}\n",
    "\n",
    "#The Hexadecimal address is applicable for all kind of data types."
   ]
  },
  {
   "cell_type": "markdown",
   "id": "032ac619",
   "metadata": {},
   "source": [
    "## Pass by value vs. Pass by reference"
   ]
  },
  {
   "cell_type": "code",
   "execution_count": null,
   "id": "344d336f",
   "metadata": {},
   "outputs": [],
   "source": [
    "#include <stdio.h>\n",
    "\n",
    "void changeValue(int);\n",
    "int main(){ \n",
    "    // Memory allocation\n",
    "    // Pass by value or Call by value\n",
    "    int x = 10;\n",
    " \n",
    "    printf(\"The value of 'x' before calling changeValue(): %d\\n\", x);        //x = 10\n",
    "\n",
    "    changeValue(x);\n",
    "\n",
    "    printf(\"The value of 'x' after calling changeValue(): %d\\n\", x);         //x = 10\n",
    "\n",
    "    return 0;\n",
    "}\n",
    "\n",
    "void changeValue(int num){\n",
    "    num++;\n",
    "}"
   ]
  },
  {
   "cell_type": "code",
   "execution_count": null,
   "id": "c35ade8c",
   "metadata": {},
   "outputs": [],
   "source": [
    "#include <stdio.h>\n",
    "\n",
    "void changeValue(int *);\n",
    "int main(){ \n",
    "    // Memory allocation\n",
    "    // Pass by Reference or Call by Reference\n",
    "    int x = 10;\n",
    "\n",
    "    printf(\"The value of 'x' before calling changeValue(): %d\\n\", x);        //x = 10\n",
    "\n",
    "    changeValue(&x);\n",
    "\n",
    "    printf(\"The value of 'x' after calling changeValue(): %d\\n\", x);        //x = 11\n",
    " \n",
    "    return 0;\n",
    "}\n",
    "\n",
    "void changeValue(int *num){\n",
    "    (*num)++;                //*num = *(&x)= 10++\n",
    "}\n"
   ]
  },
  {
   "cell_type": "markdown",
   "id": "1eb497a3",
   "metadata": {},
   "source": [
    "## Local Variable:\n",
    "   * Variable defined inside a function.\n",
    "   * The scope of a local variable is available only inside the function where it is defined.\n",
    "   \n",
    "## Global Variable:\n",
    "   * Variable defined outside a function, usually on the top of the program.\n",
    "   * The scope of a global variable is available inside all the functions throughout the program."
   ]
  },
  {
   "cell_type": "code",
   "execution_count": null,
   "id": "d33a392b",
   "metadata": {},
   "outputs": [],
   "source": [
    "#include <stdio.h>\n",
    "\n",
    "void display();\n",
    "\n",
    "int x = 20;     //Global variable\n",
    "\n",
    "int main(){ \n",
    "    // Local Variable vs. Global Variable\n",
    "\n",
    "    int x = 10;     //Local variable\n",
    "    printf(\"main() : %d\\n\", x);     //This 'x' is a local variable\n",
    "    \n",
    "    display();      //20\n",
    "    return 0;\n",
    "}\n",
    "\n",
    "void display(){\n",
    "    printf(\"display(): %d\\n\", x);\n",
    "}\n",
    "\n",
    "#If the value is not present inside the function it will check the outside function"
   ]
  },
  {
   "cell_type": "markdown",
   "id": "7e4e7fcd",
   "metadata": {},
   "source": [
    "## Random Function\n",
    "   * rand(), srand(time(NULL)).\n",
    "   * include <time.h>"
   ]
  },
  {
   "cell_type": "code",
   "execution_count": null,
   "id": "131df031",
   "metadata": {},
   "outputs": [],
   "source": [
    "#include <stdio.h>\n",
    "#include <stdlib.h>\n",
    "#include <time.h>\n",
    "#include <unistd.h>\n",
    "\n",
    "int main(){ \n",
    "    /* WAP to roll a dice.\n",
    "        Random Function: rand(), srand(time(NULL)). */\n",
    "    \n",
    "    int randomValue;\n",
    "    srand(time(NULL));\n",
    "\n",
    "    randomValue = (rand() % 6) + 1;     //1, 2, 3, 4, 5,6\n",
    "\n",
    "    puts(\"Rolling the dice...\");\n",
    "    usleep(200000);         //Makes your program sleep for 2 seconds\n",
    "\n",
    "    printf(\"You got: %d\", randomValue);\n",
    "    return 0;\n",
    "}"
   ]
  }
 ],
 "metadata": {
  "kernelspec": {
   "display_name": "Python 3 (ipykernel)",
   "language": "python",
   "name": "python3"
  },
  "language_info": {
   "codemirror_mode": {
    "name": "ipython",
    "version": 3
   },
   "file_extension": ".py",
   "mimetype": "text/x-python",
   "name": "python",
   "nbconvert_exporter": "python",
   "pygments_lexer": "ipython3",
   "version": "3.9.7"
  }
 },
 "nbformat": 4,
 "nbformat_minor": 5
}

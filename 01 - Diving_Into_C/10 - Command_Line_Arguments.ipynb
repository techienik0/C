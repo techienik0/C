{
 "cells": [
  {
   "cell_type": "markdown",
   "metadata": {},
   "source": [
    "# Command Line Argument\n",
    "\n",
    "   * argc = argument count\n",
    "       * argc is int and stores number of command-line arguments passed by the user including the name of the program. So if we pass a value to a program, value of argc would be 2 (one for argument and one for program name)\n",
    "   * argv = argument vector\n",
    "       * argv is array of character pointers listing all the arguments.If argc is greater than zero,the array elements from argv[0] to argv[argc-1] will contain pointers to strings."
   ]
  },
  {
   "cell_type": "code",
   "execution_count": null,
   "metadata": {},
   "outputs": [],
   "source": [
    "#include <stdio.h>\n",
    "#include <stdlib.h>\n",
    "\n",
    "int main (int argc, char *argv[])\n",
    "{\n",
    "    int i, sum =0;\n",
    "    printf(\"argc = %d\\n\",argc);\n",
    "    printf(\"Let's see what is in argv[]\\n\");\n",
    "    \n",
    "    if(argc==1)\n",
    "        printf(\"\\nNo Extra Command Line Argument Passed Other Than Program Name\");\n",
    "    \n",
    "    if (argc > 1)\n",
    "    {\n",
    "        for (i = 1; i < argc; i++){\n",
    "            printf(\"argv[%d] = %s\\n\", i, argv[i]);\n",
    "            sum += atoi(argv[i]);                    //\n",
    "        }\n",
    "        printf(\"Total = %d\\n\", sum);\n",
    "    }\n",
    "    return 0;\n",
    "}"
   ]
  },
  {
   "cell_type": "markdown",
   "metadata": {},
   "source": [
    "the <b>atoi</b> function converts a string to an integer. The atoi function skips all white-space characters at the beginning of the string, converts the subsequent characters as part of the number, and then stops when it encounters the first character that isn't a number."
   ]
  }
 ],
 "metadata": {
  "kernelspec": {
   "display_name": "Python 3",
   "language": "python",
   "name": "python3"
  },
  "language_info": {
   "codemirror_mode": {
    "name": "ipython",
    "version": 3
   },
   "file_extension": ".py",
   "mimetype": "text/x-python",
   "name": "python",
   "nbconvert_exporter": "python",
   "pygments_lexer": "ipython3",
   "version": "3.9.1"
  }
 },
 "nbformat": 4,
 "nbformat_minor": 4
}

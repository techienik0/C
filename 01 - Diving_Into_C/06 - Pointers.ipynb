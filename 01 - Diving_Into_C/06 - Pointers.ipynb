{
 "cells": [
  {
   "cell_type": "markdown",
   "id": "74fc7689",
   "metadata": {},
   "source": [
    "## Special Operator\n",
    "<table>\n",
    "<tr>\n",
    "    <th>Operator</th>\n",
    "    <th>Description</th>\n",
    "</tr>\n",
    "<tr>\n",
    "    <td>sizeof()</td>\n",
    "    <td>Returns the size of a memory location</td>\n",
    "</tr>\n",
    "<tr>\n",
    "    <td>&</td>\n",
    "    <td>Returns the address of a memory location</td>\n",
    "</tr>\n",
    "<tr>\n",
    "    <td>*</td>\n",
    "    <td>Pointer to a variable</td>\n",
    "</tr>\n",
    "</table>\n",
    "\n",
    "\n",
    "& = Address Of\n",
    "\n",
    "*= Value At"
   ]
  },
  {
   "cell_type": "markdown",
   "id": "2e08e852",
   "metadata": {},
   "source": [
    "# Pointers\n",
    "\n",
    "    int num = 34;\n",
    "    int *p;\n",
    "    p = &num;   //Address of num\n",
    "    \n",
    "   <b>num</b>          //value of num = 34 \n",
    "    \n",
    "   <b>&num</b>           //Address of num = 100\n",
    "   \n",
    "   <b>p</b>                //Value of p = 100\n",
    "   \n",
    "   <b>*p</b>                //*(&num) = 34\n",
    "   \n",
    "   <b>&p</b>                 //Address of p = 840"
   ]
  },
  {
   "cell_type": "code",
   "execution_count": null,
   "id": "a564c64c",
   "metadata": {},
   "outputs": [],
   "source": [
    "#include <stdio.h>\n",
    "\n",
    "int main(){ \n",
    "\n",
    "    int num = 20;\n",
    "    float num1 = 34.8;\n",
    "    char letter = 'h';\n",
    "\n",
    "    //int *p = &num;\n",
    "    //float *ptr = &num1;\n",
    "    //char *x = &letter;\n",
    "    \n",
    "    int *p;             // Pointer variable declaration.\n",
    "    p = &num;           //'p' is pointer to 'num' variable. 'p' contains the address of 'num' variable.\n",
    "\n",
    "    printf(\"Address of 'num' : %ld\\n\", &num);   \n",
    "\n",
    "    printf(\"Address stored in 'p' : %ld\\n\", p);\n",
    "\n",
    "    printf(\"Value of '*p' : %d\\n\", *p);      //*(&num)\n",
    "    return 0;\n",
    "}"
   ]
  },
  {
   "cell_type": "markdown",
   "id": "b158ae06",
   "metadata": {},
   "source": [
    "## Incrementing a pointer\n",
    "     int num[4] = {34, 51, 23, 12}\n",
    "     \n",
    "     int *ptr;\n",
    "     ptr = num;       //OR ptr = &num[0]\n",
    "     //ptr = 100(address of 34) AND *ptr = 34\n",
    "     ptr++;           //ptr = 104 AND *ptr = 51\n",
    "     ptr = ptr + 2;     //ptr = 112 AND *ptr = 12"
   ]
  },
  {
   "cell_type": "code",
   "execution_count": null,
   "id": "e4004cb4",
   "metadata": {},
   "outputs": [],
   "source": [
    "#include <stdio.h>\n",
    "\n",
    "int main(){ \n",
    "\n",
    "    /*Incrementing and decrementing a pointer.*/\n",
    "    float values[] = {10.5, 100.9, 200, 4.1, 989.38, 2.3};\n",
    "    float *ptr;\n",
    "    ptr = values;       //OR ptr = &values[0]\n",
    "\n",
    "    for (int i = 0; i < 6; i++){\n",
    "        printf(\"Value at index %d = %.2f\\n\", i, *ptr);\n",
    "        ptr++;      //Move to immediate next memory location in the array.\n",
    "    }\n",
    "    \n",
    "    float *ptr1;\n",
    "    ptr1 = &values[5];       \n",
    "\n",
    "    for (int i = 5; i >= 0; i--){\n",
    "        printf(\"Value at index %d = %.2f\\n\", i, *ptr1);\n",
    "        ptr--;      //Move to immediate previous memory location in the array.\n",
    "    }\n",
    "\n",
    "}"
   ]
  },
  {
   "cell_type": "markdown",
   "id": "c61ffc72",
   "metadata": {},
   "source": [
    "## After declaring a Pointer variable we don't need to put (*) in front of the variable\n",
    "       float *ptr;\n",
    "       ptr = &values;\n",
    "   \n",
    "       float *ptr = &values;\n",
    "\n"
   ]
  },
  {
   "cell_type": "code",
   "execution_count": null,
   "id": "1c0cc5fb",
   "metadata": {},
   "outputs": [],
   "source": [
    "// PASSING POINTER TO FUNCTION\n",
    "#include <stdio.h>\n",
    "\n",
    "double getAverage(float *, int);\n",
    "\n",
    "int main(){ \n",
    "\n",
    "    float numbers[5] = {983, 2.9, 34, 433, 1000.567};\n",
    "    float *p;\n",
    "    p = numbers;\n",
    "    double avg = getAverage(p, 5);\n",
    "\n",
    "    printf(\"Average value is %.3lf\",avg);\n",
    "    \n",
    "    return 0;\n",
    "}\n",
    "\n",
    "double getAverage(float *ptr, int size){\n",
    "\n",
    "    double avg, sum=0;\n",
    "\n",
    "    for (int i = 0; i<size; i++){\n",
    "        sum = sum + *ptr\n",
    "        ptr++;\n",
    "    }\n",
    "    avg = sum / size;\n",
    "    return avg;\n",
    "}"
   ]
  }
 ],
 "metadata": {
  "kernelspec": {
   "display_name": "Python 3 (ipykernel)",
   "language": "python",
   "name": "python3"
  },
  "language_info": {
   "codemirror_mode": {
    "name": "ipython",
    "version": 3
   },
   "file_extension": ".py",
   "mimetype": "text/x-python",
   "name": "python",
   "nbconvert_exporter": "python",
   "pygments_lexer": "ipython3",
   "version": "3.9.7"
  }
 },
 "nbformat": 4,
 "nbformat_minor": 5
}

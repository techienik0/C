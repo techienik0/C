{
 "cells": [
  {
   "cell_type": "markdown",
   "id": "2be57c86",
   "metadata": {},
   "source": [
    " # Types Of Loops:\n",
    "   * For Loop\n",
    "   * While Loop\n",
    "   * Do While Loop"
   ]
  },
  {
   "cell_type": "markdown",
   "id": "a1f6d26d",
   "metadata": {},
   "source": [
    "## For Loop\n",
    "SYNTAX:\n",
    "    \n",
    "    for (init; condition; increment/decrement){\n",
    "        // Code\n",
    "    }\n",
    "\n",
    "START -> init -> condition(True) -> Code Block -> Increment/Decrement"
   ]
  },
  {
   "cell_type": "code",
   "execution_count": null,
   "id": "13f5da13",
   "metadata": {},
   "outputs": [],
   "source": [
    "#include <stdio.h>\n",
    "\n",
    "int main(){ \n",
    "    \n",
    "    //WAP to find out odd numbers from 1 to 4\n",
    "    \n",
    "    // Exploring for loop\n",
    "    int n;\n",
    "    puts(\"Enter the value of n:\");\n",
    "    scanf(\"%d\",&n);\n",
    "    for (int num = 0;num <= n; num++){\n",
    "        if (num % 2 != 0){\n",
    "            printf(\"%d\\n\", num);\n",
    "        }\n",
    "    }\n",
    "    return 0;\n",
    "}    "
   ]
  },
  {
   "cell_type": "markdown",
   "id": "af1d8226",
   "metadata": {},
   "source": [
    "## While Loop\n",
    "SYNTAX:\n",
    "    \n",
    "    While (condition){\n",
    "        //code\n",
    "    }\n",
    "\n",
    "START -> condition(True) -> Code Block "
   ]
  },
  {
   "cell_type": "code",
   "execution_count": null,
   "id": "9e6ee759",
   "metadata": {},
   "outputs": [],
   "source": [
    "#include <stdio.h>\n",
    "\n",
    "int main(){ \n",
    "    \n",
    "    //WAP to print natural numbers till 10.\n",
    "    \n",
    "    int n;\n",
    "    puts(\"Enter the value of n:\");\n",
    "    scanf(\"%d\",&n);\n",
    "\n",
    "    while (n <= 10){\n",
    "        printf(\"%d\\n\", n);\n",
    "        n++;\n",
    "    }\n",
    "\n",
    "    //WAP to find the factorial of a number \n",
    "\n",
    "    int num = 5;\n",
    "    long factorial = 1;\n",
    "\n",
    "    while (num>0){\n",
    "        factorial *= number;\n",
    "        number--;\n",
    "    }\n",
    "    \n",
    "    printf(\"Factorial is: %ld\", factorial);\n",
    "    return 0;\n",
    "}"
   ]
  },
  {
   "cell_type": "markdown",
   "id": "2a93644d",
   "metadata": {},
   "source": [
    "## Do while loop\n",
    "SYNTAX:\n",
    "    \n",
    "    do{\n",
    "        //code\n",
    "     }while (condition);\n",
    "\n",
    "START -> Code Block <=> Condition(True)"
   ]
  },
  {
   "cell_type": "code",
   "execution_count": null,
   "id": "8cef0634",
   "metadata": {},
   "outputs": [],
   "source": [
    "#include <stdio.h>\n",
    "\n",
    "int main(){ \n",
    "    \n",
    "    //WAP to print natural numbers till 10.\n",
    "    int counter = 1;\n",
    "    do {\n",
    "        printf(\"%d\\n\", counter);\n",
    "        counter++;\n",
    "    }while (counter <= 10);\n",
    "\n",
    "    //WAP to add numbers until user enters 0\n",
    "    float num, sum=0;\n",
    "\n",
    "    do{\n",
    "        puts(\"Enter a number : \");\n",
    "        scanf(\"%f\\n\",&num);\n",
    "        sum += num;\n",
    "    }while (num != 0);\n",
    "\n",
    "    printf(\"The sum is : %.3f\", sum);\n",
    "    return 0;\n",
    "}"
   ]
  },
  {
   "cell_type": "markdown",
   "id": "e0290f6a",
   "metadata": {},
   "source": [
    "## Which loop is better?\n",
    "   * Use <b>for loop</b> if the number of iterations are fixed.\n",
    "   * Use <b>While loop</b> if the number of iterations are not fixed.\n",
    "   * Use <b>do while loop</b> if the number of iterations are not fixed and the code needs to be executed at least once."
   ]
  }
 ],
 "metadata": {
  "kernelspec": {
   "display_name": "Python 3 (ipykernel)",
   "language": "python",
   "name": "python3"
  },
  "language_info": {
   "codemirror_mode": {
    "name": "ipython",
    "version": 3
   },
   "file_extension": ".py",
   "mimetype": "text/x-python",
   "name": "python",
   "nbconvert_exporter": "python",
   "pygments_lexer": "ipython3",
   "version": "3.9.7"
  }
 },
 "nbformat": 4,
 "nbformat_minor": 5
}

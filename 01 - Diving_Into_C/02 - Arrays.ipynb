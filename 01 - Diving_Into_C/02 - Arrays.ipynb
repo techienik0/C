{
 "cells": [
  {
   "cell_type": "markdown",
   "id": "7e81d983",
   "metadata": {},
   "source": [
    "## Exploring Arrays\n",
    "   * <b>int</b> numbers[] = {40, 7, 12};\n",
    "   * <b>char</b> letters[] = {'8', '#', '&', 'h'};\n",
    "   * <b>float</b> myArray[] = {4.9, 12.3};\n",
    "   * <b>long</b> values[] = {400, 999, 76};\n",
    "   * <b>double</b> nums[] = {8.09, 1.12};\n",
    "   \n",
    "0 1 2 <- Array indices\n",
    "\n",
    "printf(\"%d\", numbers[1]);\n",
    "\n",
    "<b>Note: </b> Accessing elements beyond available indices result in the unexpected output.\n",
    "numbers[-1], numbers[3], numbers[20]"
   ]
  },
  {
   "cell_type": "code",
   "execution_count": null,
   "id": "626f0ce6",
   "metadata": {},
   "outputs": [],
   "source": [
    "#include <stdio.h>\n",
    "\n",
    "int main(){ \n",
    "    \n",
    "    //Different ways to initialize an array.\n",
    "    //Declare an array to store top 5 scores. --> 980, 903, 785, 761, 701\n",
    "\n",
    "    //Method 1 : Specifying size and initializing elements.\n",
    "    long scoresOne[5] = {980, 903, 785, 761, 701};\n",
    "\n",
    "    printf(\"%ld\", scoresOne[1]);\n",
    "\n",
    "    //Method 2: Just initializing elements.\n",
    "    long scoresTwo[] = {980, 903, 785, 761, 701};\n",
    "    \n",
    "    //Method 3: Just declaring elements.\n",
    "    long scoresThree[5];\n",
    "    scoresThree[0] = 980;\n",
    "    scoresThree[1] = 903;\n",
    "    scoresThree[2] = 785;\n",
    "    scoresThree[3] = 761;\n",
    "    scoresThree[4] = 701;\n",
    "    \n",
    "    return 0;\n",
    "}"
   ]
  },
  {
   "cell_type": "code",
   "execution_count": null,
   "id": "f4460316",
   "metadata": {},
   "outputs": [],
   "source": [
    "#include <stdio.h>\n",
    "\n",
    "int main(){ \n",
    "    \n",
    "    //Diving into arrays.\n",
    "    // Indices -->         0    1   2   3    4\n",
    "    long scoresOne[5] = {980, 903, 785, 761, 701};\n",
    "\n",
    "    //Modify elements\n",
    "    scoreOne[1] = 900;\n",
    "    scoresOne[4] = 750;\n",
    "\n",
    "    //Print all elements using a loop\n",
    "    for (int i = 0; i < 5;i++){\n",
    "        printf(\"%d\\n\", scoresOne[i]);\n",
    "    }\n",
    "\n",
    "    //User input\n",
    "    long scoreTwo[5];\n",
    "\n",
    "    for (int i = 0;i < 5; i++){\n",
    "        printf(\"Enter the value for index %d: \",i);\n",
    "        scanf(\"%ld\",&scoresTwo[i]);\n",
    "    }\n",
    "    puts(\"Printing elements of scoresTwo: \");\n",
    "    for (int i = 0;i < 5; i++){\n",
    "        printf(\"%ld\",scoreTwo[i]);\n",
    "    }\n",
    "\n",
    "    return 0;\n",
    "}"
   ]
  },
  {
   "cell_type": "markdown",
   "id": "4a415f14",
   "metadata": {},
   "source": [
    "How memory is Allocated for an Array?\n",
    "   * Elements are stored at contiguous(Together in sequence or the adjacent elements are touching each other) memory locations."
   ]
  },
  {
   "cell_type": "code",
   "execution_count": null,
   "id": "83e90697",
   "metadata": {},
   "outputs": [],
   "source": [
    "#include <stdio.h>\n",
    "\n",
    "int main(){ \n",
    "    \n",
    "    // Diving into arrays.\n",
    "    // Indices -->         0    1   2   3    4\n",
    "    long scoresOne[5] = {980, 903, 785, 761, 701};\n",
    "\n",
    "    //Print address of each element in the array\n",
    "    for (int i = 0; i < 5; i++){\n",
    "        printf(\"%ld\\n\", &scoresOne[i]);\n",
    "    }\n",
    "\n",
    "    //long type have 8 bytes \n",
    "    return 0;\n",
    "}"
   ]
  },
  {
   "cell_type": "markdown",
   "id": "44cf85cc",
   "metadata": {},
   "source": [
    "## Array\n",
    "   * An array is defined as the collection of similar type of data items stored at contiguous memory locations.\n",
    "   * It is derived data type.\n",
    "\n",
    "## Applications of Arrays\n",
    "  * Store list of currencies in a character array(char currencies[])\n",
    "  * Store list of bookmarked page numbers in an integer array(int pages[])\n",
    "  * Store list of names in a stored array(string names[])\n",
    "          - string names[3] = {\"Aditya\",\"Sriyank\",\"Adam\"};"
   ]
  },
  {
   "cell_type": "code",
   "execution_count": null,
   "id": "15a84b26",
   "metadata": {},
   "outputs": [],
   "source": [
    "#include <stdio.h>\n",
    "\n",
    "int main(){ \n",
    "    \n",
    "    // 2D Array: Array of array(s).\n",
    "    int arr1[] = {98, 54, 12, 76, 99};\n",
    "    int arr2[] = {87, 75, 11, 33, 45};\n",
    "    int arr3[] = {17, 15, 23, 21, 67};\n",
    "\n",
    "    //Dimensions can't be left blank atleast one dimension have to present.\n",
    "    //arr[][5]\n",
    "    int arr[3][5] = {\n",
    "                        {98, 54, 12, 76, 99},\n",
    "                        {87, 75, 11, 33, 45},\n",
    "                        {17, 15, 23, 21, 67}\n",
    "                    };\n",
    "    \n",
    "    //Access an element: arr[row][column]\n",
    "\n",
    "    //Modify an element: arr[row][column] = value\n",
    "    arr[2][4] = 98;\n",
    "    printf(\"%d\",arr[2][2]);\n",
    "    //Print 2d array\n",
    "    for (int r=0; r < 3; r++){\n",
    "        for (int c=0; c < 5; c++){\n",
    "            printf(\"%d\\n\",arr[r][c]);\n",
    "        }\n",
    "    }\n",
    "\n",
    "    \n",
    "    return 0;\n",
    "}"
   ]
  },
  {
   "cell_type": "markdown",
   "id": "315bc217",
   "metadata": {},
   "source": [
    "## 2D array:\n",
    "   * A 2D array can be defined as an array of array(s).\n",
    "   * It is organized as matrices which can be represented as the collection of rows and columns."
   ]
  },
  {
   "cell_type": "markdown",
   "id": "661c3c8c",
   "metadata": {},
   "source": [
    "# Summary:\n",
    "   * Arrays and 2D arrays.\n",
    "   * Each element in an array is of <b>same data type</b> and consumes memory equally.\n",
    "   * Elements of an array are stored at <b>contiguous memory locations.</b>\n",
    "   * Array has <b>fixed size</b>. You cannot add more elements to an array beyond its declared size."
   ]
  }
 ],
 "metadata": {
  "kernelspec": {
   "display_name": "Python 3 (ipykernel)",
   "language": "python",
   "name": "python3"
  },
  "language_info": {
   "codemirror_mode": {
    "name": "ipython",
    "version": 3
   },
   "file_extension": ".py",
   "mimetype": "text/x-python",
   "name": "python",
   "nbconvert_exporter": "python",
   "pygments_lexer": "ipython3",
   "version": "3.9.7"
  }
 },
 "nbformat": 4,
 "nbformat_minor": 5
}

{
 "cells": [
  {
   "cell_type": "markdown",
   "id": "abdc04d6",
   "metadata": {},
   "source": [
    "# User Defined Data Types"
   ]
  },
  {
   "cell_type": "markdown",
   "id": "3d1f6f60",
   "metadata": {},
   "source": [
    "## Structure:\n",
    "   * The structure is a user-defined data type in c, which is used store a collection of different kinds of data.\n",
    "   * A structure can be used to store details of a book, student, employee, or any such entities. "
   ]
  },
  {
   "cell_type": "code",
   "execution_count": null,
   "id": "c1305180",
   "metadata": {},
   "outputs": [],
   "source": [
    "#include <stdio.h>\n",
    "#include <string.h>\n",
    "\n",
    "struct Employee {\n",
    "    int id;            // 2 Bytes\n",
    "    char name[20];     // 20 Bytes      //You cannot modify a string literal value once you have declared it.\n",
    "    float salary;      // 4 Bytes\n",
    "                            // Memory occupied = 26 Bytes\n",
    "};\n",
    "\n",
    "int main(){ \n",
    "    \n",
    "    //WAP to store details of an employee.\n",
    "    //struct Employee e1, e2, e3;\n",
    "    struct Employee e1;\n",
    "    e1.id = 1;\n",
    "    strcpy(e1.name, \"Peter\");\n",
    "    e1.salary = 23000;    \n",
    "\n",
    "    printf(\"Employee details: \\n Employee ID : %d \\n Name : %s \\n Salary : Rs. %0.2f\\n\\n\", e1.id, e1.name, e1.salary);\n",
    "    \n",
    "    struct Employee e2;\n",
    "    e2.id = 2;\n",
    "    strcpy(e2.name, \"Adam\");\n",
    "    e2.salary = 40000;\n",
    "\n",
    "    printf(\"Employee details: \\n Employee ID : %d \\n Name : %s \\n Salary : Rs. %0.2f\\n\\n\", e2.id, e2.name, e2.salary);\n",
    "    return 0;\n",
    "}"
   ]
  },
  {
   "cell_type": "markdown",
   "id": "e68f41a9",
   "metadata": {},
   "source": [
    "## Union:\n",
    "   * The Union is a user-defined data type in C, which is used to store a collection of different kinds of data.\n",
    "   * A union can store information in only one member variable at a time.\n",
    "   * The memory occupied by a union is equal to the maximum memory occupied by a particular member variable.\n",
    "   "
   ]
  },
  {
   "cell_type": "code",
   "execution_count": null,
   "id": "6ce3ca75",
   "metadata": {},
   "outputs": [],
   "source": [
    "#include <stdio.h>\n",
    "#include <string.h>\n",
    "\n",
    "union Employee {\n",
    "    int id;         //2 Bytes\n",
    "    char name[20];     // 20 Bytes         \n",
    "    float salary;           //4 Bytes\n",
    "                                //Memory Occupied = 20 Bytes ( Maximum member )\n",
    "};\n",
    "\n",
    "int main(){ \n",
    "    \n",
    "    //WAP to store details of an employee.\n",
    "    \n",
    "    union Employee e1, e2, e3;\n",
    "    //union Employee e1;\n",
    "    puts(\"Employee details : \");\n",
    "    \n",
    "    e1.id = 1;\n",
    "    printf(\"Employee id : %d \\n\", e1.id);\n",
    "    \n",
    "    strcpy(e1.name, \"Peter\");\n",
    "    printf(\"Name : %s \\n\", e1.name);\n",
    "\n",
    "    e1.salary = 23000;    \n",
    "    printf(\"Salary: Rs.%0.2f\\n\\n\", e1.salary);\n",
    "\n",
    "    //union Employee e2;\n",
    "    puts(\"Employee details : \");\n",
    "\n",
    "    e2.id = 2;\n",
    "    printf(\"Employee id : %d \\n\", e2.id);\n",
    "\n",
    "    strcpy(e2.name, \"Adam\");\n",
    "    printf(\"Name : %s \\n\", e2.name);\n",
    "\n",
    "    e2.salary = 40000;\n",
    "    printf(\"Salary: Rs.%0.2f\\n\\n\", e2.salary);\n",
    "    \n",
    "    return 0;\n",
    "}"
   ]
  },
  {
   "cell_type": "markdown",
   "id": "9773d86c",
   "metadata": {},
   "source": [
    "## Enumeration or Enum\n",
    "   * The enum is a user-defined data type in C.\n",
    "   * It is mainly used to assign names to integral constants which makes a program easy to read and maintain."
   ]
  },
  {
   "cell_type": "code",
   "execution_count": null,
   "id": "1b9f673a",
   "metadata": {},
   "outputs": [],
   "source": [
    "#include <stdio.h>\n",
    "#include <string.h>\n",
    "\n",
    "int main(){ \n",
    "    \n",
    "    int signal = 0;         //Represents a traffic signal color\n",
    "    \n",
    "    switch (signal){\n",
    "\n",
    "        case 0:     //For red color\n",
    "            puts(\"Stop\");\n",
    "            break;\n",
    "        case 1:     //For yellow color\n",
    "            puts(\"Proceed with caution\");\n",
    "            break;\n",
    "        case 2:     //For green color\n",
    "            puts(\"Go\");\n",
    "            break;\n",
    "        default: \n",
    "            puts(\"No color found\");\n",
    "    }   \n",
    "    return 0;\n",
    "}\n",
    "\n",
    "# Stranger who is reading this code can't identify which case is for red or yellow or green so ENUM!"
   ]
  },
  {
   "cell_type": "code",
   "execution_count": null,
   "id": "ce06906a",
   "metadata": {},
   "outputs": [],
   "source": [
    "#include <stdio.h>\n",
    "#include <string.h>\n",
    "\n",
    "enum TrafficLight{\n",
    "    RED, YELLOW, GREEN      //initially the values are RED = 0,YELLOW = 1,GREEN = 2 IF WE ASSIGN..\n",
    "    //RED=10, YELLOW, GREEN      //the values are RED = 10,YELLOW = 11,GREEN = 12\n",
    "    //RED, YELLOW=10, GREEN      //the values are RED = 0,YELLOW = 10,GREEN = 11\n",
    "    //RED, YELLOW, GREEN=10      //the values are RED = 0,YELLOW = 1,GREEN = 10\n",
    "};\n",
    "\n",
    "int main(){ \n",
    "    enum TrafficLight signal;\n",
    "\n",
    "    signal = RED;\n",
    "    \n",
    "    printf(\"RED = %d, YELLOW = %d, GREEN = %d\\n\\n\", RED, YELLOW, GREEN);\n",
    "    switch (signal){\n",
    "\n",
    "        case RED:     \n",
    "            puts(\"Stop\");\n",
    "            break;\n",
    "        case YELLOW:     \n",
    "            puts(\"Proceed with caution\");\n",
    "            break;\n",
    "        case GREEN:     \n",
    "            puts(\"Go\");\n",
    "            break;\n",
    "        default: \n",
    "            puts(\"No color found\");\n",
    "    }   \n",
    "    return 0;\n",
    "}"
   ]
  }
 ],
 "metadata": {
  "kernelspec": {
   "display_name": "Python 3 (ipykernel)",
   "language": "python",
   "name": "python3"
  },
  "language_info": {
   "codemirror_mode": {
    "name": "ipython",
    "version": 3
   },
   "file_extension": ".py",
   "mimetype": "text/x-python",
   "name": "python",
   "nbconvert_exporter": "python",
   "pygments_lexer": "ipython3",
   "version": "3.9.7"
  }
 },
 "nbformat": 4,
 "nbformat_minor": 5
}

{
 "cells": [
  {
   "cell_type": "markdown",
   "id": "201d3e96",
   "metadata": {},
   "source": [
    "# Recursion:\n",
    "   * Recursion is the process where a function calls itself.\n",
    "   * The function that calls itself is known as recursive function and that call to the function(itself) is known as <b>recursive call. "
   ]
  },
  {
   "cell_type": "code",
   "execution_count": null,
   "id": "585c0d8d",
   "metadata": {},
   "outputs": [],
   "source": [
    "#include <stdio.h>\n",
    "\n",
    "void greetUser(int);\n",
    "\n",
    "int main(){ \n",
    "    //Note: Identify the terminating condition to terminate the recursion.\n",
    "    greetUser();\n",
    "    \n",
    "    return 0;\n",
    "}\n",
    "\n",
    "void greetUser(int num){\n",
    "    if (num > 0){\n",
    "        puts(\"Welcome\");\n",
    "        greetUser(--num);\n",
    "    }\n",
    "            \n",
    "}"
   ]
  },
  {
   "cell_type": "code",
   "execution_count": null,
   "id": "02e02852",
   "metadata": {},
   "outputs": [],
   "source": [
    "#include <stdio.h>\n",
    "\n",
    "long findFactorial(int);\n",
    "\n",
    "int main(){ \n",
    "    //Using recursion to find factorial of 5.\n",
    "    long result = findFactorial(5);\n",
    "    printf(\"Factorial is : %d\\n\",result);\n",
    "    \n",
    "    return 0;\n",
    "}\n",
    "\n",
    "long findFactorial(int num){\n",
    "    if (num > 0){\n",
    "        return num * findFactorial(--num);\n",
    "    }else{\n",
    "        return 1;\n",
    "    } \n",
    "}"
   ]
  },
  {
   "cell_type": "markdown",
   "id": "ca36d4c0",
   "metadata": {},
   "source": [
    "## Disadvantages of Recursion:\n",
    "   * Increases the complexity of a program.\n",
    "   * It requires a significant amount of stack memory for execution. There is always a chance of <b>stack overflow error</b> while using recursion.\n",
    "   * Fairly slower than its iterative solution. Every recursive program can be written using loop(s) and vice cersa is also true.\n",
    "\n",
    "## Advantages of Recursion:\n",
    "   * It is frequently used in data structures to solve complex problems like tree taversals, and sorting."
   ]
  }
 ],
 "metadata": {
  "kernelspec": {
   "display_name": "Python 3 (ipykernel)",
   "language": "python",
   "name": "python3"
  },
  "language_info": {
   "codemirror_mode": {
    "name": "ipython",
    "version": 3
   },
   "file_extension": ".py",
   "mimetype": "text/x-python",
   "name": "python",
   "nbconvert_exporter": "python",
   "pygments_lexer": "ipython3",
   "version": "3.9.7"
  }
 },
 "nbformat": 4,
 "nbformat_minor": 5
}

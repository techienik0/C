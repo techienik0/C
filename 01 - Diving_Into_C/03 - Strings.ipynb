{
 "cells": [
  {
   "cell_type": "markdown",
   "id": "ef574026",
   "metadata": {},
   "source": [
    "# Strings\n",
    "   * A string is represented as an array of characters.\n",
    "        char str[3] = \"hi\";\n",
    "   * String is an array of characters terminated by a null character('\\0').\n",
    "   * A character array that does not contain a null character at the end is not a string.\n",
    "   * For example, this is not a string.\n",
    "       char greet[2] = {'h', 'i'};"
   ]
  },
  {
   "cell_type": "code",
   "execution_count": null,
   "id": "4175bc99",
   "metadata": {},
   "outputs": [],
   "source": [
    "#include <stdio.h>\n",
    "\n",
    "int main(){ \n",
    "    \n",
    "    // Various ways to declare a string.\n",
    "    char str1[3] = \"hi\";\n",
    "\n",
    "    char str2[10] = \"hi\";\n",
    "\n",
    "    char str7[1] = \"hi\";        // h\n",
    "\n",
    "    char str3[] = \"hi\";\n",
    "\n",
    "    char str4[] = {'h','i','\\0'};\n",
    "\n",
    "    char str5[3] = {'h','i','\\0'}; \n",
    "    \n",
    "    char str6[3] = {'h','i'};       //Not a string. It is a normal character array. \n",
    "\n",
    "    //User input\n",
    "    char name[40];\n",
    "    puts(\"Enter your name : \");\n",
    "    //scanf(\"%s\", name);  \n",
    "    scanf(\"%[^\\n]s\", name);  \n",
    "    printf(\"%s\",name);\n",
    "    return 0;\n",
    "}"
   ]
  },
  {
   "cell_type": "code",
   "execution_count": null,
   "id": "3c4eaf5e",
   "metadata": {},
   "outputs": [],
   "source": [
    "#include <stdio.h>\n",
    "#include <string.h>\n",
    "int main(){ \n",
    "    \n",
    "    //Commonly Used string functions in C.\n",
    "\n",
    "    //strcat(): Append a copy of the source string to the end of the destination string.\n",
    "    char destination[50] = \"Hello\";\n",
    "    char source[50] = \"World!\";\n",
    "    strcat(destination, source);\n",
    "    printf(\"strcat: %s\\n\",destination);                 //Hello World!\n",
    "\n",
    "    //strcmp(): Compares two strings lexicographically.\n",
    "    char str1[10] = \"hello\";\n",
    "    char str2[10] = \"hello\";\n",
    "    int result = strcmp(str1, str2);\n",
    "    print(\"strcmp: result: %d\\n\",result);               //0\n",
    "\n",
    "    if (result == 0)\n",
    "        puts(\"Strings are equal.\");\n",
    "    else \n",
    "        puts(\"Strings are unequal.\");\n",
    "\n",
    "    //strcpy(): Copy one string to another.\n",
    "    char dest[50] = \"Old Value\";\n",
    "    char src[50] = \"New Value\";\n",
    "    strcpy(dest, src)\n",
    "\n",
    "    printf(\"strcpy: %s\\n\", dest);                       //New Value\n",
    "\n",
    "    //strlen(): Gives you the length of the string. It doesn't count null character.\n",
    "    char name[] = \"Rakesh sharma\";\n",
    "    int length = strlen(name);\n",
    "    printf(\"strlen: Length of string: %d\\n\", length);           //13\n",
    "    return 0;\n",
    "}"
   ]
  }
 ],
 "metadata": {
  "kernelspec": {
   "display_name": "Python 3 (ipykernel)",
   "language": "python",
   "name": "python3"
  },
  "language_info": {
   "codemirror_mode": {
    "name": "ipython",
    "version": 3
   },
   "file_extension": ".py",
   "mimetype": "text/x-python",
   "name": "python",
   "nbconvert_exporter": "python",
   "pygments_lexer": "ipython3",
   "version": "3.9.7"
  }
 },
 "nbformat": 4,
 "nbformat_minor": 5
}

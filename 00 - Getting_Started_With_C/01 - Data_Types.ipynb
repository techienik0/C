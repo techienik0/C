{
 "cells": [
  {
   "cell_type": "markdown",
   "metadata": {},
   "source": [
    "# Data Types:\n",
    "* A data-type in C programming is a set of values and is determined to act on those values. C provides various types of data-types which allow the programmer to select the appropriate type for the variable to set its value.\n",
    "\n",
    "* The data-type in a programming language is the collection of data with values having fixed meaning as well as characteristics. Some of them are an integer, floating point, character, etc. Usually, programming languages specify the range values for given data-type."
   ]
  },
  {
   "cell_type": "markdown",
   "metadata": {},
   "source": [
    "## Data Type Classification"
   ]
  },
  {
   "cell_type": "markdown",
   "metadata": {},
   "source": [
    "<table class=\"table table-bordered\">\n",
    "<tr>\n",
    "    <th style=\"width:10%\">Primary</th> \n",
    "    <th style=\"width:15%\">Derived</th>\n",
    "    <th style=\"width:25%\">User Defined </th>\n",
    "</tr>\n",
    "\n",
    "<tr>\n",
    "    <td>char</td>\n",
    "    <td>Array</td>\n",
    "    <td>Structure</td>\n",
    "</tr>\n",
    "\n",
    "<tr>\n",
    "    <td>int</td> \n",
    "    <td>Pointer</td>\n",
    "    <td>Union</td>  \n",
    "</tr>\n",
    "\n",
    "\n",
    "<tr>\n",
    "    <td>long</td> \n",
    "    <td>String</td>\n",
    "    <td>Enum</td>\n",
    "</tr>\n",
    "\n",
    "<tr>\n",
    "    <td>float</td> \n",
    "</tr>\n",
    "\n",
    "<tr>\n",
    "    <td>double</td> \n",
    "</tr>\n",
    "\n",
    "</table>"
   ]
  },
  {
   "cell_type": "markdown",
   "metadata": {},
   "source": [
    "#### ANSI C provides three types of data types:\n",
    "1. Primary(Built-in) Data Types:\n",
    "     void, int, char, double and float.   \n",
    "2. Derived Data Types:\n",
    "     Array, References, and Pointers.\n",
    "3. User Defined Data Types:\n",
    "    Structure, Union, and Enumeration."
   ]
  },
  {
   "cell_type": "markdown",
   "metadata": {},
   "source": [
    "## Data Types and Memory Allocation"
   ]
  },
  {
   "cell_type": "markdown",
   "metadata": {},
   "source": [
    "<table class=\"table table-bordered\">\n",
    "<tr>\n",
    "    <th style=\"width:10%\">Type</th> \n",
    "    <th style=\"width:15%\">Size(Bytes)</th>\n",
    "    <th style=\"width:25%\">Literal Examples</th>\n",
    "    <th style=\"width:25%\">Format Specifiers</th>\n",
    "\n",
    "</tr>\n",
    "\n",
    "<tr>\n",
    "    <td>char</td>\n",
    "    <td>1</td>\n",
    "    <td>'e','$','}','@','2'</td>\n",
    "    <td>%c</td>\n",
    "</tr>\n",
    "\n",
    "<tr>\n",
    "    <td>int</td>\n",
    "    <td>2 or 4</td>\n",
    "    <td>2768,-3210</td>\n",
    "    <td>%d</td>\n",
    "</tr>\n",
    "\n",
    "<tr>\n",
    "    <td>long</td>\n",
    "    <td>4 or 8</td>\n",
    "    <td>-2143648,4276878</td>\n",
    "    <td>%ld</td>\n",
    "</tr>\n",
    "\n",
    "<tr>\n",
    "    <td>float</td>\n",
    "    <td>4</td>\n",
    "    <td>3.12, -2.547219</td>\n",
    "    <td>%f</td>\n",
    "</tr>\n",
    "\n",
    "\n",
    "<tr>\n",
    "    <td>double</td>\n",
    "    <td>8</td>\n",
    "    <td>2.61267626767</td>\n",
    "    <td>%lf</td>\n",
    "</tr>\n",
    "\n",
    "</table>"
   ]
  },
  {
   "cell_type": "markdown",
   "metadata": {},
   "source": [
    "### How Data is stored in variable?\n",
    "\n",
    "    char(Data Type) letter(variable) = 'M'(literal)"
   ]
  },
  {
   "cell_type": "markdown",
   "metadata": {},
   "source": [
    "### Variable: \n",
    "   * It is the name of the memory location where a data is stored.\n",
    "   \n",
    "   * Variables may change its value during the program.\n",
    "   \n",
    "   * It is also known as IDENTIFIER in C.\n"
   ]
  },
  {
   "cell_type": "markdown",
   "metadata": {},
   "source": [
    "### Data type:\n",
    "   * It specifies the type of data that a variable can store.\n",
    "   * It determines how much memory a variable will occupy in storage."
   ]
  },
  {
   "cell_type": "markdown",
   "metadata": {},
   "source": [
    "### Literal: \n",
    "   * It is a constant value.\n",
    "   * For example,'M',\"Hello\",24,3.5 are fixed values or have a certain defined values.\n"
   ]
  },
  {
   "cell_type": "code",
   "execution_count": null,
   "metadata": {},
   "outputs": [],
   "source": [
    "#include <stdio.h>\n",
    "\n",
    "int main(){\n",
    "    // Write a C program to find out the area of a circle \n",
    "    // Formula : Pi * radius * radius\n",
    "    const float PI = 3.14;          #PI is a constant variable\n",
    "    \n",
    "    int radius = 27;\n",
    "    radius = 21;\n",
    "    \n",
    "    float area = PI * radius * radius;\n",
    "    \n",
    "    printf(\"The area of the circle is %.2f sq units\", area);\n",
    "    \n",
    "    return 0;   \n",
    "}"
   ]
  },
  {
   "cell_type": "markdown",
   "metadata": {},
   "source": [
    "### Constant\n",
    "   * It is the name of the memory location where a fixed value is stored.\n",
    "   * Constants do not change their values during program execution.\n",
    "   * Similiar to variable but with fixed value."
   ]
  },
  {
   "cell_type": "code",
   "execution_count": null,
   "metadata": {},
   "outputs": [],
   "source": [
    "#Data Types and Variabel Declarations in C\n",
    "\n",
    "#include <stdio.h>\n",
    "int main()\n",
    "{\n",
    "    int a = 4000; // positive integer data type\n",
    "    float b = 5.2324; // float data type\n",
    "    char c = 'Z'; // char data type\n",
    "    long d = 41657; // long positive integer data type\n",
    "    long e = -21556; // long -ve integer data type\n",
    "    int f = -185; // -ve integer data type\n",
    "    short g = 130; // short +ve integer data type\n",
    "    short h = -130; // short -ve integer data type\n",
    "    double i = 4.1234567890; // double float data type\n",
    "    float j = -3.55; // float data type\n",
    "}"
   ]
  },
  {
   "cell_type": "markdown",
   "metadata": {},
   "source": [
    "## Reserved Keyword\n",
    "   * A reserved keyword cannot be used as a variable name. \n",
    "   - auto, break, case, char, const, continue, default, do, double, int, float"
   ]
  },
  {
   "cell_type": "markdown",
   "metadata": {},
   "source": [
    "## Token\n",
    "   * Variable, data type and literal are all part of the token\n",
    "   * Each word and punctuation in a C program is referred to as token.Except the Whitespace\n",
    "   * For example,int, float, main, (, ), return, variable names and so on are all tokens."
   ]
  }
 ],
 "metadata": {
  "kernelspec": {
   "display_name": "Python 3",
   "language": "python",
   "name": "python3"
  },
  "language_info": {
   "codemirror_mode": {
    "name": "ipython",
    "version": 3
   },
   "file_extension": ".py",
   "mimetype": "text/x-python",
   "name": "python",
   "nbconvert_exporter": "python",
   "pygments_lexer": "ipython3",
   "version": "3.9.1"
  }
 },
 "nbformat": 4,
 "nbformat_minor": 5
}

{
 "cells": [
  {
   "cell_type": "markdown",
   "id": "aea664c6",
   "metadata": {},
   "source": [
    "## Algorithm:\n",
    "    A step by step method of solving a problem.\n",
    "## Flowchart:\n",
    "   * It is a graphical representation of an algorithm.\n",
    "   * It is used by programmers as a tool to solve a problem.\n",
    "   * It makes use of SYMBOLS which are connected among them to indicate the flow of information."
   ]
  }
 ],
 "metadata": {
  "kernelspec": {
   "display_name": "Python 3 (ipykernel)",
   "language": "python",
   "name": "python3"
  },
  "language_info": {
   "codemirror_mode": {
    "name": "ipython",
    "version": 3
   },
   "file_extension": ".py",
   "mimetype": "text/x-python",
   "name": "python",
   "nbconvert_exporter": "python",
   "pygments_lexer": "ipython3",
   "version": "3.9.7"
  }
 },
 "nbformat": 4,
 "nbformat_minor": 5
}

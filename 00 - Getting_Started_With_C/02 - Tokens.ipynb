{
 "cells": [
  {
   "cell_type": "markdown",
   "id": "f26519df",
   "metadata": {},
   "source": [
    "# Tokens: \n",
    "* In C programs, each word and punctuation is referred to as a token. C Tokens are the smallest building block or smallest unit of a C program.\n",
    "* The compiler breaks a program into the smallest possible units and proceeds to the various stages of the compilation, which is called token."
   ]
  },
  {
   "cell_type": "markdown",
   "id": "2e38eb68",
   "metadata": {},
   "source": [
    "## Identifiers:\n",
    "* Identifiers are names given to different entities such as constants, variables, structures, functions, etc.\n",
    "\n",
    "    int amount;\n",
    "\n",
    "    double totalbalance;\n",
    "    \n",
    "In the above example, amount and totalbalance are <b>identifiers</b> and int, and double are <b>keywords</b>."
   ]
  },
  {
   "cell_type": "code",
   "execution_count": null,
   "id": "ed30c978",
   "metadata": {},
   "outputs": [],
   "source": [
    "#include <stdio.h>\n",
    "\n",
    "int main(){\n",
    "    \n",
    "    char name[15] = \"Farm House\";\n",
    "    char size = 'M';\n",
    "    int personItServes;\n",
    "    float retailPrice;\n",
    "    \n",
    "    scanf(\"%c\", &size);\n",
    "    scanf(\"%d\", &personItServes);\n",
    "    scanf(\"%f\", &retailPrice);\n",
    "    \n",
    "    printf(\"You have ordered a %s pizza %c that serves %d.\\n Please\"\n",
    "            \"pay Rs. %.1f to the delivery person.\",name, size, personItServes, retailPrice);\n",
    "\n",
    "    return 0;\n",
    "}"
   ]
  },
  {
   "cell_type": "code",
   "execution_count": null,
   "id": "b6134dd5",
   "metadata": {},
   "outputs": [],
   "source": [
    "#include <stdio.h>\n",
    "#include <unistd.h>\n",
    "\n",
    "int main(){\n",
    "    \n",
    "    char name[15] = \"Farm House\";   //TODO Get name as user input\n",
    "    char size = 'M';\n",
    "    int personItServes;\n",
    "    float retailPrice;\n",
    "    \n",
    "    printf(\"Enter the size of the pizza as either 'S', 'M' or 'L': \")\n",
    "    scanf(\"%c\", &size);\n",
    "    \n",
    "    usleep(3000000);\n",
    "    \n",
    "    printf(\"Enter the number of persons it serves: \")\n",
    "    scanf(\"%d\", &personItServes);\n",
    "    return 0;\n",
    "}"
   ]
  },
  {
   "cell_type": "markdown",
   "id": "0bd236f7",
   "metadata": {},
   "source": [
    " ## String character input"
   ]
  },
  {
   "cell_type": "code",
   "execution_count": null,
   "id": "92a5018a",
   "metadata": {},
   "outputs": [],
   "source": [
    "#include <stdio.h>\n",
    "#include <unistd.h>\n",
    "\n",
    "int main(){\n",
    "    \n",
    "    char name[30];   //TODO Get name as user input\n",
    "    char size = 'M';\n",
    "    int personItServes;\n",
    "    float retailPrice;\n",
    "    \n",
    "    printf(\"Enter the pizza name : \")\n",
    "    scanf(\"%[^\\n]%*c\", name);\n",
    "\n",
    "    return 0;\n",
    "}"
   ]
  },
  {
   "cell_type": "markdown",
   "id": "934a3865",
   "metadata": {},
   "source": [
    "### Character I/O Operation\n",
    "   * Input Operation\n",
    "           - scanf(\"%c\", &size);\n",
    "           - getchar(size)\n",
    "   * Output Operation\n",
    "           - printf(\"%c, size);\n",
    "           - putchar(size);"
   ]
  },
  {
   "cell_type": "code",
   "execution_count": null,
   "id": "d7f26a28",
   "metadata": {},
   "outputs": [],
   "source": [
    "#include <stdio.h>\n",
    "#include <unistd.h>\n",
    "\n",
    "int main(){\n",
    "    \n",
    "    char name[30];          //TODO Get name as user input\n",
    "    char size = 'M';\n",
    "    int personItServes;\n",
    "    float retailPrice;\n",
    "    \n",
    "    getchar(size);\n",
    "    putchar(size);\n",
    "    return 0;\n",
    "}"
   ]
  }
 ],
 "metadata": {
  "kernelspec": {
   "display_name": "Python 3 (ipykernel)",
   "language": "python",
   "name": "python3"
  },
  "language_info": {
   "codemirror_mode": {
    "name": "ipython",
    "version": 3
   },
   "file_extension": ".py",
   "mimetype": "text/x-python",
   "name": "python",
   "nbconvert_exporter": "python",
   "pygments_lexer": "ipython3",
   "version": "3.9.7"
  }
 },
 "nbformat": 4,
 "nbformat_minor": 5
}

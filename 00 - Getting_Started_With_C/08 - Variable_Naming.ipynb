{
 "cells": [
  {
   "cell_type": "markdown",
   "id": "8028fb4c",
   "metadata": {},
   "source": [
    "# Variables:\n",
    "* Variables are memory locations(storage area) in the C programming language.\n",
    "* The primary purpose of variables is to store data in memory for later use. Unlike constants which do not change during the program execution, variables value may change during execution. If you declare a variable in C, that means you are asking the operating system to reserve a piece of memory with that variable name."
   ]
  },
  {
   "cell_type": "code",
   "execution_count": null,
   "id": "cfad3ed0",
   "metadata": {},
   "outputs": [],
   "source": [
    "#include<stdio.h>\n",
    "\n",
    "void main()\n",
    "{\n",
    "    int age = 33;                    // c program to print value of a variable\n",
    "    printf(\"I am %d years old.\\n\", age);\n",
    "}"
   ]
  },
  {
   "cell_type": "markdown",
   "id": "4859b0b7",
   "metadata": {},
   "source": [
    "## Variable Naming Conventions\n",
    "   * Camel Case\n",
    "        myAge, maxRetailPrice, firstName\n",
    "   * Snake Case\n",
    "       my_age, max_retail_price, first_name\n",
    "   \n",
    "   \n",
    "   * kebab case:\n",
    "          * words are in lower case and are linked by hypens(-)\n",
    "          * Example: learn-programming.c\n",
    "          * It cannot be used to name a VARIABLE. "
   ]
  },
  {
   "cell_type": "markdown",
   "id": "18e3375f",
   "metadata": {},
   "source": [
    "## Type Casting:\n",
    "* Type Casting in C is used to convert a variable from one data type to another data type, and after type casting compiler treats the variable as of the new data type.\n",
    "\n",
    "SYNTAX:\n",
    "       (type_name) expression"
   ]
  },
  {
   "cell_type": "code",
   "execution_count": null,
   "id": "d028d41d",
   "metadata": {},
   "outputs": [],
   "source": [
    "# Without Type Casting\n",
    "#include <stdio.h>\n",
    "void main ()\n",
    "{\n",
    "    int a;\n",
    "    a = 15/6;\n",
    "    printf(\"%d\",a);        //2\n",
    "}"
   ]
  },
  {
   "cell_type": "code",
   "execution_count": null,
   "id": "6c91af70",
   "metadata": {},
   "outputs": [],
   "source": [
    "# After Type Casting\n",
    "#include <stdio.h>\n",
    "void main ()\n",
    "{\n",
    "    float a;\n",
    "    a = (float) 15/6;\n",
    "    printf(\"%f\",a);      //2.500000\n",
    "}"
   ]
  }
 ],
 "metadata": {
  "kernelspec": {
   "display_name": "Python 3 (ipykernel)",
   "language": "python",
   "name": "python3"
  },
  "language_info": {
   "codemirror_mode": {
    "name": "ipython",
    "version": 3
   },
   "file_extension": ".py",
   "mimetype": "text/x-python",
   "name": "python",
   "nbconvert_exporter": "python",
   "pygments_lexer": "ipython3",
   "version": "3.9.7"
  }
 },
 "nbformat": 4,
 "nbformat_minor": 5
}

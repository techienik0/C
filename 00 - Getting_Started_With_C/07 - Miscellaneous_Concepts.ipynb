{
 "cells": [
  {
   "cell_type": "markdown",
   "id": "8b5abf2e",
   "metadata": {},
   "source": [
    "## Miscellaneous Concepts"
   ]
  },
  {
   "cell_type": "markdown",
   "id": "3febfd6f",
   "metadata": {},
   "source": [
    "### ASCII Value\n",
    "\n",
    "<table>\n",
    "<tr>\n",
    "    <th>Character Literal</th>\n",
    "    <th>ASCII Value</th>\n",
    "</tr>\n",
    "<tr>\n",
    "    <td>Small Alphabets(a to z)</td>\n",
    "    <td>97 to 122</td>\n",
    "</tr>\n",
    "<tr>\n",
    "    <td>Capital Alphabets(A to Z)</td>\n",
    "    <td>65 to 90</td>\n",
    "</tr>\n",
    "<tr>\n",
    "    <td>Numbers(0 to 9)</td>\n",
    "    <td>48 to 57</td>\n",
    "</tr>\n",
    "\n",
    "</table>"
   ]
  },
  {
   "cell_type": "code",
   "execution_count": null,
   "id": "c81e4093",
   "metadata": {},
   "outputs": [],
   "source": [
    "#include <stdio.h>\n",
    "\n",
    "int main(){ \n",
    "    //why char is categorized as integer?\n",
    "    //Note : char, int, and long are integers.\n",
    "\n",
    "    char letter = 'M';\n",
    "    char letter1 = '^';\n",
    "    char letter2 = '5';\n",
    "    char letter3 = '\\n';\n",
    "\n",
    "    printf(\"%d\", letter);\n",
    "    printf(\"%d\", letter1);\n",
    "    printf(\"%d\", letter2);\n",
    "    printf(\"%d\", letter3);\n",
    "\n",
    "    return 0;\n",
    "}"
   ]
  },
  {
   "cell_type": "markdown",
   "id": "866f42a9",
   "metadata": {},
   "source": [
    "### Escape Sequence\n",
    "   * when a character is preceded by a backlash(\\),it is called escape sequence and it has a special meaning to the compiler.\n",
    "   * For Example, when character n is preceded by a backslash, it means new line(\\n) to the compiler.\n",
    "   * Note: Backslash has special meaning with a few characters only.For example, '\\1' is an invalid character."
   ]
  },
  {
   "cell_type": "code",
   "execution_count": null,
   "id": "9af3d86d",
   "metadata": {},
   "outputs": [],
   "source": [
    "#include <stdio.h>\n",
    "\n",
    "int main(){ \n",
    "    //Escape Sequences or Escape Characters\n",
    "\n",
    "    // New Line: \\n\n",
    "    puts(\"This is a first statement.\\nThis is a second statement\");\n",
    "\n",
    "    // Horizontal Tab: \\t\n",
    "    puts(\"Before tab.\\tAfter tab\");\n",
    "\n",
    "    // Single Quote: \\'\n",
    "    char x = '\\'';\n",
    "    printf(\"%c\", x);\n",
    "\n",
    "    //Double Quote: \\\"\n",
    "    puts(\\\"\"This statement is within double quotes.\\\"\");\n",
    "\n",
    "    return 0;\n",
    "}"
   ]
  },
  {
   "cell_type": "markdown",
   "id": "00ebdf29",
   "metadata": {},
   "source": [
    "### Type Conversions\n",
    "   * Implicit Type Conversion(Automatic Type conversion)\n",
    "   * Explicit Type Conversion\n",
    "   \n",
    "Convert 'char' to 'int' and vice-versa "
   ]
  },
  {
   "cell_type": "code",
   "execution_count": null,
   "id": "80ba109c",
   "metadata": {},
   "outputs": [],
   "source": [
    "#include <stdio.h>\n",
    "\n",
    "int main(){ \n",
    "    \n",
    "    //Implicit Type Conversion(Automatic Type conversion)\n",
    "    int radius = 300;\n",
    "    double newRadius = radius;\n",
    "    printf(\"%lf\\n\", newRadius);         //300.000000\n",
    "\n",
    "    //Explicit Type Conversion\n",
    "    double diameter = 4.0;\n",
    "    int newDiameter = (int)diameter;\n",
    "    printf(\"%d\", newDiameter);          //4\n",
    "\n",
    "    return 0;\n",
    "}"
   ]
  },
  {
   "cell_type": "markdown",
   "id": "ab78f0ab",
   "metadata": {},
   "source": [
    "## Clear Input Buffer\n",
    "\n",
    "Buffer:\n",
    "* Buffer is a temporary storage area(memory) where input and output data is stored.\n",
    "* Input buffer and output buffer are the two types of memory buffer."
   ]
  },
  {
   "cell_type": "code",
   "execution_count": null,
   "id": "3b4d6b5e",
   "metadata": {},
   "outputs": [],
   "source": [
    "#include <stdio.h>\n",
    "\n",
    "int main(){ \n",
    "    char name[40], gender;\n",
    "    int ag, id;\n",
    "\n",
    "    puts(\"Enter name: \");\n",
    "    scanf(\"%[^\\n]%*c\",name);\n",
    "    printf(\"%s\",name);\n",
    "\n",
    "    puts(\"\\nEnter id : \");\n",
    "    scanf(\"%d\", &id);\n",
    "    printf(\"%d\",id);\n",
    "\n",
    "    while ((getchar()) != '\\n');    \n",
    "                                //Clear input buffer memory only if you face difficulty in getting a particular user input.\n",
    "\n",
    "    puts(\"\\nEnter gender : 'M' or 'F'\");\n",
    "    scanf(\"%c\", &gender);\n",
    "    printf(\"%c\",gender);\n",
    "\n",
    "    puts(\"\\nEnter age : \");\n",
    "    scanf(\"%d\", &age);\n",
    "    printf(\"%d\",age);\n",
    "\n",
    "    return 0;\n",
    "}"
   ]
  }
 ],
 "metadata": {
  "kernelspec": {
   "display_name": "Python 3 (ipykernel)",
   "language": "python",
   "name": "python3"
  },
  "language_info": {
   "codemirror_mode": {
    "name": "ipython",
    "version": 3
   },
   "file_extension": ".py",
   "mimetype": "text/x-python",
   "name": "python",
   "nbconvert_exporter": "python",
   "pygments_lexer": "ipython3",
   "version": "3.9.7"
  }
 },
 "nbformat": 4,
 "nbformat_minor": 5
}

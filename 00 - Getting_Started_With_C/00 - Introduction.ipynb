{
 "cells": [
  {
   "cell_type": "markdown",
   "metadata": {},
   "source": [
    "## Getting Started"
   ]
  },
  {
   "cell_type": "markdown",
   "metadata": {},
   "source": [
    "Developed by DENNIS RITCHIE in 1972 at AT&T Bell Labs, New Jersey, the USA, between 1969 and 1973.\n",
    "        -> Unix Operating System -> B language\n",
    "        -> C language was created to overcome the shortcomings of the B language \n",
    "_______________________________________________________________________"
   ]
  },
  {
   "cell_type": "markdown",
   "metadata": {},
   "source": [
    "## Software Requirements\n",
    "           Compiler , Integrated Developement Environment(IDE)"
   ]
  },
  {
   "cell_type": "markdown",
   "metadata": {},
   "source": [
    "### COMPILER:\n",
    "            *  SOURCE CODE(C/C++ program) -> COMPILER -> EXECUTABLE CODE(Computer)    \n",
    "            *  A Compiler is a software which reads source code and outputs executable code.\n",
    "                \n",
    "   * GNU Compiler Collection (GCC Compiler )\n"
   ]
  },
  {
   "cell_type": "markdown",
   "metadata": {},
   "source": [
    "### IDE:\n",
    "        * An IDE is a software suite that provides basic tools to a programmer to write and test his program.\n",
    "            (Eclipse IDE)    "
   ]
  },
  {
   "cell_type": "markdown",
   "metadata": {},
   "source": [
    "#### JAVA(JRE) -> GCC(MINGW) -> Eclipse IDE\n",
    "___________________________________________________________________"
   ]
  },
  {
   "cell_type": "markdown",
   "metadata": {},
   "source": [
    "## Comments \n",
    "   * A Comment is a explanatory text written in a program to help one understand what the program does \n",
    "to improve its readability and therefore help fix errors in future.They are ignored by compiler.\n",
    "\n",
    "  // Single Line Comment  \n",
    "  /* Multi Line Comment\n",
    "    */"
   ]
  },
  {
   "cell_type": "code",
   "execution_count": null,
   "metadata": {},
   "outputs": [],
   "source": [
    "#include <stdio.h> --> Header file          [Link Section]\n",
    "\n",
    "int main(){                           [The main() Function]\n",
    "\n",
    "    printf(\"Hello\");                            [Program Body]\n",
    "    return 0;\n",
    "}"
   ]
  },
  {
   "cell_type": "markdown",
   "metadata": {},
   "source": [
    "__________________________"
   ]
  },
  {
   "cell_type": "markdown",
   "metadata": {},
   "source": [
    "## Some Facts About C Programming Languages\n",
    "   * In 1988, the American National Standards Institute (ANSI) had formalized the C language.\n",
    "   * C was invented to write UNIX operating system.\n",
    "   * C is a successor of 'Basic Combined Programming Language' (BCPL) called B language.\n",
    "   * Linux OS, PHP, and MySQL are written in C.\n",
    "   * C has been written in assembly language. "
   ]
  },
  {
   "cell_type": "markdown",
   "metadata": {},
   "source": [
    "## Uses Of C Programming Language\n",
    "In the beginning, C was used for developing system applications,e.g. :\n",
    "* Database Systems\n",
    "* Language Interpreters\n",
    "* Compilers and Assemblers\n",
    "* Operating Systems\n",
    "* Network Drivers\n",
    "* Word Processors"
   ]
  },
  {
   "cell_type": "markdown",
   "metadata": {},
   "source": [
    "## C Has Become Very Popular For Various Reasons \n",
    "* One of the early programming languages.\n",
    "* Still, the best programming language to learn quickly.\n",
    "* C language is reliable, simple, and easy to use.\n",
    "* C language is a structured language.\n",
    "* Modern programming concepts are based on C.\n",
    "* It can be compiled on a variety of computer platforms.\n",
    "* Universities preferred to add C programming in their courseware."
   ]
  },
  {
   "cell_type": "markdown",
   "metadata": {},
   "source": [
    "## Features Of C Programming Language\n",
    "* C is a robust language with a rich set of built-in functions and operators.\n",
    "* Programs written in C are efficient and fast.\n",
    "* C is highly portable; programs once written in C can be run on other machines with minor or no modification.\n",
    "* C is a collection of C library functions; we can also create our function and add it to the C library.\n",
    "* C is easily extensible.\n"
   ]
  },
  {
   "cell_type": "markdown",
   "metadata": {},
   "source": [
    "## Advantages Of C\n",
    "* C is the building block for many other programming languages.\n",
    "* Programs written in C are highly portable.\n",
    "* Several standard functions are there (like in-built) that can be used to develop programs.\n",
    "* C programs are collections of C library functions, and it's also easy to add functions to the C library.\n",
    "* The modular structure makes code debugging, maintenance, and testing easier."
   ]
  },
  {
   "cell_type": "markdown",
   "metadata": {},
   "source": [
    "## Disadvantages Of C\n",
    "* C does not provide Object Oriented Programming (OOP) concepts.\n",
    "* There are no concepts of Namespace in C.\n",
    "* C does not provide binding or wrapping up of data in a single unit.\n",
    "* C does not provide Constructor and Destructor."
   ]
  },
  {
   "cell_type": "markdown",
   "metadata": {},
   "source": [
    "## The limitations of C programming languages are as follows:\n",
    "* Difficult to debug.\n",
    "* C allows a lot of freedom in writing code, and that is why you can put an empty line or white space anywhere in the program. And because there is no fixed place to start or end the line, so it isn't easy to read and understand the program.\n",
    "* C compilers can only identify errors and are incapable of handling exceptions (run-time errors).\n",
    "* C provides no data protection.\n",
    "* It also doesn't feature the reusability of source code extensively.\n",
    "* It does not provide strict data type checking (for example, an integer value can be passed for floating datatype).\n"
   ]
  }
 ],
 "metadata": {
  "kernelspec": {
   "display_name": "Python 3",
   "language": "python",
   "name": "python3"
  },
  "language_info": {
   "codemirror_mode": {
    "name": "ipython",
    "version": 3
   },
   "file_extension": ".py",
   "mimetype": "text/x-python",
   "name": "python",
   "nbconvert_exporter": "python",
   "pygments_lexer": "ipython3",
   "version": "3.9.1"
  }
 },
 "nbformat": 4,
 "nbformat_minor": 5
}

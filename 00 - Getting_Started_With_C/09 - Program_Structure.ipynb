{
 "cells": [
  {
   "cell_type": "markdown",
   "id": "ead1c479",
   "metadata": {},
   "source": [
    "# C Program Structure:\n",
    "A C program involves the following sections:\n",
    "* Documentations (Documentation Section)\n",
    "* Preprocessor Statements (Link Section)\n",
    "* Global Declarations (Definition Section)\n",
    "* The main() function\n",
    "    * Local Declarations\n",
    "    * Program Statements & Expressions\n",
    "* User Defined Functions"
   ]
  }
 ],
 "metadata": {
  "kernelspec": {
   "display_name": "Python 3 (ipykernel)",
   "language": "python",
   "name": "python3"
  },
  "language_info": {
   "codemirror_mode": {
    "name": "ipython",
    "version": 3
   },
   "file_extension": ".py",
   "mimetype": "text/x-python",
   "name": "python",
   "nbconvert_exporter": "python",
   "pygments_lexer": "ipython3",
   "version": "3.9.7"
  }
 },
 "nbformat": 4,
 "nbformat_minor": 5
}
